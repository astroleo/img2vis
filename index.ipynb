{
 "cells": [
  {
   "cell_type": "code",
   "execution_count": 4,
   "metadata": {
    "collapsed": false
   },
   "outputs": [
    {
     "name": "stdout",
     "output_type": "stream",
     "text": [
      "Populating the interactive namespace from numpy and matplotlib\n"
     ]
    }
   ],
   "source": [
    "from astropy.io import fits\n",
    "from astropy.modeling import models\n",
    "import numpy as np\n",
    "from matplotlib import pyplot as plt\n",
    "from azimuthalAverage import azimuthalAverage\n",
    "%pylab inline"
   ]
  },
  {
   "cell_type": "code",
   "execution_count": 6,
   "metadata": {
    "collapsed": true
   },
   "outputs": [],
   "source": [
    "##\n",
    "## helper function to read MIDI OIFITS visibility file\n",
    "def read_midi_oifits(f):\n",
    "\thdu=fits.open(f)\n",
    "\tw=hdu[3].data\n",
    "\tww=w[\"EFF_WAVE\"]\n",
    "#\tix=(ww>12.2e-6)&(ww<12.8e-6)\n",
    "\tix=(ww>9.8e-6)&(ww<10.2e-6)\n",
    "\t\n",
    "\tv=hdu[4].data\n",
    "\tvv=v[\"VISAMP\"]\n",
    "\tvis = np.average(vv[:,ix],axis=1)\n",
    "\tbl=np.sqrt(v[\"UCOORD\"]**2+v[\"VCOORD\"]**2)\n",
    "\treturn(bl,vis)"
   ]
  },
  {
   "cell_type": "code",
   "execution_count": 8,
   "metadata": {
    "collapsed": true
   },
   "outputs": [],
   "source": [
    "##\n",
    "## helper function to read MIDI OIFITS correlated flux file\n",
    "##\n",
    "## requires estimate of total flux (phot) to compute visibility\n",
    "##\n",
    "def read_midi_oifits_corrflx(f,phot):\n",
    "\thdu=fits.open(f)\n",
    "\tw=hdu[3].data\n",
    "\tww=w[\"EFF_WAVE\"]\n",
    "#\tix=(ww>12.2e-6)&(ww<12.8e-6)\n",
    "\tix=(ww>9.8e-6)&(ww<10.2e-6)\n",
    "\t\n",
    "\tv=hdu[4].data\n",
    "\tvv=v[\"CFLUX\"]\n",
    "\tvis = np.average(vv[:,ix],axis=1) / phot\n",
    "\tbl=np.sqrt(v[\"UCOORD\"]**2+v[\"VCOORD\"]**2)\n",
    "\treturn(bl,vis)"
   ]
  },
  {
   "cell_type": "code",
   "execution_count": 10,
   "metadata": {
    "collapsed": true
   },
   "outputs": [],
   "source": [
    "##\n",
    "## core function to compute visibility\n",
    "##\n",
    "## source can be either \"ngc1068\" or \"circinus\"\n",
    "##\n",
    "def fft(f_model,source):\n",
    "\n",
    "\tif source==\"ngc1068\":\n",
    "\t\tprint(\"Computing visibilities for NGC 1068 model\")\n",
    "\telif source==\"circinus\":\n",
    "\t\tprint(\"Computing visibilities for Circinus model\")\n",
    "\telse:\n",
    "\t\traise ValueError(\"Unknown source \", source)\n",
    "\n",
    "\t##\n",
    "\t## one pixel = 5 mas\n",
    "\t##\n",
    "\t#pxscale=5 ## in mas\n",
    "\t#gridsize=2000 ## half-size of grid size in mas\n",
    "\n",
    "\n",
    "\n",
    "\tlam=10e-6 ## observation wavelength\n",
    "\t\n",
    "\tif (source==\"ngc1068\") & (lam != 10e-6):\n",
    "\t\traise ValueError(\"Need to adapt total flux of source for MIDI visibility calculation!\")\n",
    "\n",
    "\t#fwhm_gauss=10\n",
    "\t#f_p = 0.0\n",
    "\t#g=models.Gaussian2D(1,0,0,fwhm_gauss/pxscale,fwhm_gauss/pxscale)\n",
    "\t#y,x=np.mgrid[-gridsize/pxscale:gridsize/pxscale,-gridsize/pxscale:gridsize/pxscale]\n",
    "\t#img = g(x,y)\n",
    "\n",
    "\t##\n",
    "\t## choose model / object #######################################################\n",
    "\t##\n",
    "\tf_Circinus=\"MIDI_data/Circinus.oifits\"\n",
    "\tf_1068=\"MIDI_data/NGC1068.oifits\"\n",
    "\n",
    "\tif source==\"ngc1068\":\n",
    "\t\tbl,vis_obs=read_midi_oifits_corrflx(f_1068,10.5) ## 1068, 10 micron\n",
    "\t\tpxscale=0.08 * 1000/71 ### 0.08 pc per px, 1000 mas = 71 pc in NGC 1068\n",
    "\telse:\n",
    "\t\tbl,vis_obs=read_midi_oifits(f_Circinus) ## Circinus\n",
    "\t\tpxscale=0.08 * 1000/20 ### 0.08 pc per px, 1000 mas = 20 pc in Circinus\n",
    "\n",
    "\thdu=fits.open(f_model)\n",
    "\timg=hdu[0].data\n",
    "\n",
    "\t##\n",
    "\t## end of model / object specific code #########################################\n",
    "\t##\n",
    "\n",
    "\timg=img[0:500,0:500]\n",
    "\tgridsize=img.shape[0]\n",
    "\n",
    "\t##\n",
    "\t## compute fringe factor, i.e. factor to multiply FFT image with to get 1 px = 1 m in (u,v) space\n",
    "\tfringe_factor = 128.86/200 * (lam/12.5e-6) * (2000/gridsize) ## calibration factor from a 10 mas separation binary -- zero vis at 128.86 m at 12.5 micron -- has its minimum at pixel 200\n",
    "\n",
    "\n",
    "\tF_g = np.sum(img)\n",
    "\t##\n",
    "\t## add point source to image\n",
    "\t#img[gridsize/pxscale,gridsize/pxscale] += f_p * F_g / (1-f_p)\n",
    "\t#img[gridsize/pxscale,gridsize/pxscale] += 10000\n",
    "\t#img[gridsize/pxscale,(10+gridsize)/pxscale] += 10000\n",
    "\tfft_img = np.abs(np.fft.rfft2(img))\n",
    "\troll=fft_img.shape[0]/2\n",
    "\n",
    "\tif (roll-np.floor(roll)) != 0:\n",
    "\t\traise ValueError(\"roll is not an integer\")\n",
    "\troll=np.int(roll)\n",
    "\n",
    "\tvis_norm=fft_img[0,0]\n",
    "\tvis=np.roll(fft_img,roll,0)/vis_norm\n",
    "\n",
    "\tplt.subplot(221)\n",
    "\t## cut out central region\n",
    "\tc_mas = 100 ## half-size of cut-out box (in mas)\n",
    "\tc_px = c_mas/pxscale\n",
    "\tp1 = np.shape(img)[0]/2 - c_px\n",
    "\tp2 = np.shape(img)[0]/2 + c_px\n",
    "\timg_cut = img[p1:p2,p1:p2]\n",
    "\tplt.imshow(img_cut/np.max(img_cut),origin=\"lower\")\n",
    "\tplt.colorbar(label=\"Normalized intensity\")\n",
    "\tplt.title(\"Image plane\")\n",
    "\t#lamstr=str(r\"$\\lambda$ = {0} m\".format(lam))\n",
    "\t#plt.annotate(lamstr,(5,160),color=\"white\")\n",
    "\t##\n",
    "\t## set number of axis labels\n",
    "\tnax=5\n",
    "\txt = 2 * c_px * np.arange(nax+1)/nax\n",
    "\txt_label = pxscale * xt\n",
    "\tplt.xticks(xt,xt_label - c_mas)\n",
    "\tplt.yticks(xt,xt_label - c_mas)\n",
    "\tplt.xlabel(\"x [mas]\")\n",
    "\tplt.ylabel(\"y [mas]\")\n",
    "\n",
    "\n",
    "\tplt.subplot(222)\n",
    "\tplt.imshow(vis,origin=\"lower\")\n",
    "\tplt.colorbar(label=\"Visibility amplitude\")\n",
    "\tplt.title(\"Fourier plane\")\n",
    "\tnax=3\n",
    "\txt = vis.shape[1] * np.arange(nax+1)/nax\n",
    "\tyt = vis.shape[0] * np.arange(2*nax+1)/(2*nax)\n",
    "\tplt.xticks(xt,(fringe_factor*xt).astype(int))\n",
    "\tplt.yticks(yt,(fringe_factor*(yt-roll)).astype(int))\n",
    "\tplt.xlabel(\"u [m]\")\n",
    "\tplt.ylabel(\"v [m]\")\n",
    "\n",
    "\n",
    "\tplt.subplot(223)\n",
    "\tr,V = azimuthalAverage(vis,center=[0,roll],returnradii=True)\n",
    "\tplt.plot(fringe_factor * r,V)\n",
    "\tplt.ylim([0,1])\n",
    "\tplt.xlim([0,130])\n",
    "\tplt.xlabel(\"Projected baseline [m]\")\n",
    "\tplt.ylabel(\"Visibility amplitude\")\n",
    "\tplt.title(\"Azimuthally averaged visibility amplitude\")\n",
    "\n",
    "\tplt.plot(bl,vis_obs,'ks',label=\"MIDI data\")\n",
    "\tplt.legend(numpoints=1)\n",
    "\n",
    "\n",
    "\tplt.subplot(224)\n",
    "\tplt.plot(fringe_factor * np.arange(vis.shape[1]),vis[roll,:])\n",
    "\tplt.ylim([0,1])\n",
    "\tplt.xlim([0,130])\n",
    "\tplt.xlabel(\"Projected baseline [m]\")\n",
    "\tplt.ylabel(\"Visibility amplitude\")\n",
    "\tplt.title(\"Meridional cut through (u,v) plane\")\n",
    "\n",
    "\n",
    "\tplt.suptitle(f_model.split(\".fits\")[0] + str(\" (lam={0} m)\".format(lam)))\n",
    "\n",
    "\tplt.tight_layout()"
   ]
  },
  {
   "cell_type": "code",
   "execution_count": 24,
   "metadata": {
    "collapsed": false
   },
   "outputs": [
    {
     "name": "stderr",
     "output_type": "stream",
     "text": [
      "/usr/local/lib/python3.5/site-packages/ipykernel/__main__.py:84: DeprecationWarning: using a non-integer number instead of an integer will result in an error in the future\n",
      "/Users/leo/Projekte/diskwind_model/img2vis/azimuthalAverage.py:73: RuntimeWarning: invalid value encountered in true_divide\n",
      "  radial_prof = np.histogram(r, bins, weights=(image*weights*mask))[0] / np.histogram(r, bins, weights=(mask*weights))[0]\n"
     ]
    },
    {
     "name": "stdout",
     "output_type": "stream",
     "text": [
      "Computing visibilities for Circinus model\n"
     ]
    },
    {
     "data": {
      "image/png": "[encoded data removed]",
      "text/plain": [
       "<matplotlib.figure.Figure at 0x11457eeb8>"
      ]
     },
     "metadata": {},
     "output_type": "display_data"
    }
   ],
   "source": [
    "url_base=\"http://www.mpe.mpg.de/~burtscher/\"\n",
    "img=\"bild_circinus_60_70.fits\"\n",
    "fft(url_base+img,\"circinus\")\n",
    "plt.savefig(img.split(\".fits\")[0]+\".png\",dpi=300)"
   ]
  },
  {
   "cell_type": "code",
   "execution_count": null,
   "metadata": {
    "collapsed": true
   },
   "outputs": [],
   "source": []
  }
 ],
 "metadata": {
  "kernelspec": {
   "display_name": "Python 3",
   "language": "python",
   "name": "python3"
  },
  "language_info": {
   "codemirror_mode": {
    "name": "ipython",
    "version": 3
   },
   "file_extension": ".py",
   "mimetype": "text/x-python",
   "name": "python",
   "nbconvert_exporter": "python",
   "pygments_lexer": "ipython3",
   "version": "3.5.1"
  }
 },
 "nbformat": 4,
 "nbformat_minor": 0
}
